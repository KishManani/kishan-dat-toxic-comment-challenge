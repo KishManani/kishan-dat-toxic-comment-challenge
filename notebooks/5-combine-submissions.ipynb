{
 "cells": [
  {
   "cell_type": "code",
   "execution_count": 1,
   "metadata": {
    "collapsed": true
   },
   "outputs": [],
   "source": [
    "import sys\n",
    "import os\n",
    "import pandas as pd\n",
    "import numpy as np\n",
    "from sklearn.externals import joblib\n",
    "\n",
    "sys.path.insert(1, '..')\n",
    "\n",
    "import matplotlib.pyplot as plt\n",
    "import seaborn as sns\n",
    "%matplotlib inline"
   ]
  },
  {
   "cell_type": "markdown",
   "metadata": {},
   "source": [
    "# Load submissions"
   ]
  },
  {
   "cell_type": "code",
   "execution_count": 2,
   "metadata": {},
   "outputs": [
    {
     "name": "stdout",
     "output_type": "stream",
     "text": [
      "total 390040\r\n",
      "-rw-r--r--@ 1 km1308  1335817362  21864156 19 Mar 22:03 2RNN1CNN.csv\r\n",
      "-rw-r--r--@ 1 km1308  1335817362  22430825 19 Mar 21:43 GRU.csv\r\n",
      "-rw-r--r--@ 1 km1308  1335817362  22398387 19 Mar 21:41 NaiveBayesSVM.csv\r\n",
      "-rw-r--r--  1 km1308  1335817362  22020342 19 Mar 21:50 final_submission.csv\r\n",
      "-rw-r--r--  1 km1308  1335817362  22344775 19 Mar 22:02 final_submission_2.csv\r\n",
      "-rw-r--r--  1 km1308  1335817362  22433319 19 Mar 22:07 final_submission_3.csv\r\n",
      "-rw-r--r--  1 km1308  1335817362  21740450 18 Mar 21:34 logistic_regression.csv\r\n",
      "-rw-r--r--  1 km1308  1335817362  21784121 18 Mar 22:11 logistic_regression_lgb_ensemble.csv\r\n",
      "-rw-r--r--  1 km1308  1335817362  22666715  4 Feb 19:51 submission_baseline.csv\r\n"
     ]
    }
   ],
   "source": [
    "! ls -l ../data/processed/"
   ]
  },
  {
   "cell_type": "code",
   "execution_count": 3,
   "metadata": {
    "collapsed": true
   },
   "outputs": [],
   "source": [
    "submissions = ['2RNN1CNN.csv', \n",
    "              'GRU.csv',\n",
    "              'NaiveBayesSVM.csv']"
   ]
  },
  {
   "cell_type": "code",
   "execution_count": 4,
   "metadata": {},
   "outputs": [],
   "source": [
    "list_of_df_submissions = [pd.read_csv(os.path.join('../data/processed/',f)) for f in submissions]"
   ]
  },
  {
   "cell_type": "markdown",
   "metadata": {},
   "source": [
    "# Average submissions"
   ]
  },
  {
   "cell_type": "code",
   "execution_count": 5,
   "metadata": {
    "collapsed": true
   },
   "outputs": [],
   "source": [
    "TARGETS = ['toxic', 'severe_toxic', 'obscene', 'threat', 'insult', 'identity_hate']"
   ]
  },
  {
   "cell_type": "code",
   "execution_count": 6,
   "metadata": {},
   "outputs": [],
   "source": [
    "df = pd.DataFrame()\n",
    "num_submissions = len(list_of_df_submissions)\n",
    "for target in TARGETS:\n",
    "    df[target] = (list_of_df_submissions[1].loc[:, target]\n",
    "                  + list_of_df_submissions[2].loc[:, target]) / 3"
   ]
  },
  {
   "cell_type": "code",
   "execution_count": 7,
   "metadata": {},
   "outputs": [],
   "source": [
    "final_submission = pd.concat([df, list_of_df_submissions[0].id], axis=1)"
   ]
  },
  {
   "cell_type": "code",
   "execution_count": 8,
   "metadata": {
    "collapsed": true
   },
   "outputs": [],
   "source": [
    "final_submission.to_csv('../data/processed/final_submission_3.csv', index=False)"
   ]
  },
  {
   "cell_type": "code",
   "execution_count": null,
   "metadata": {
    "collapsed": true
   },
   "outputs": [],
   "source": []
  }
 ],
 "metadata": {
  "kernelspec": {
   "display_name": "py36",
   "language": "python",
   "name": "py36"
  },
  "language_info": {
   "codemirror_mode": {
    "name": "ipython",
    "version": 3
   },
   "file_extension": ".py",
   "mimetype": "text/x-python",
   "name": "python",
   "nbconvert_exporter": "python",
   "pygments_lexer": "ipython3",
   "version": "3.6.4"
  }
 },
 "nbformat": 4,
 "nbformat_minor": 2
}
